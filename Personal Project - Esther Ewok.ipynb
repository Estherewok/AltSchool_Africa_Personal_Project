{
 "cells": [
  {
   "cell_type": "code",
   "execution_count": 1,
   "id": "6d287033",
   "metadata": {},
   "outputs": [],
   "source": [
    "# For Manipulation and Analysis\n",
    "import pandas as pd\n",
    "import numpy as np\n",
    "\n",
    "# For Data Visualization\n",
    "import seaborn as sns\n",
    "import matplotlib.pyplot as plt"
   ]
  },
  {
   "cell_type": "code",
   "execution_count": 2,
   "id": "9d65f32a",
   "metadata": {},
   "outputs": [],
   "source": [
    "# Read the dataset into a DataFrame\n",
    "health_data = pd.read_csv('HealthInsurance.csv')"
   ]
  },
  {
   "cell_type": "code",
   "execution_count": 3,
   "id": "533c3ad8",
   "metadata": {},
   "outputs": [
    {
     "data": {
      "text/html": [
       "<div>\n",
       "<style scoped>\n",
       "    .dataframe tbody tr th:only-of-type {\n",
       "        vertical-align: middle;\n",
       "    }\n",
       "\n",
       "    .dataframe tbody tr th {\n",
       "        vertical-align: top;\n",
       "    }\n",
       "\n",
       "    .dataframe thead th {\n",
       "        text-align: right;\n",
       "    }\n",
       "</style>\n",
       "<table border=\"1\" class=\"dataframe\">\n",
       "  <thead>\n",
       "    <tr style=\"text-align: right;\">\n",
       "      <th></th>\n",
       "      <th>Unnamed: 0</th>\n",
       "      <th>health</th>\n",
       "      <th>age</th>\n",
       "      <th>limit</th>\n",
       "      <th>gender</th>\n",
       "      <th>insurance</th>\n",
       "      <th>married</th>\n",
       "      <th>selfemp</th>\n",
       "      <th>family</th>\n",
       "      <th>region</th>\n",
       "      <th>ethnicity</th>\n",
       "      <th>education</th>\n",
       "    </tr>\n",
       "  </thead>\n",
       "  <tbody>\n",
       "    <tr>\n",
       "      <th>0</th>\n",
       "      <td>1</td>\n",
       "      <td>yes</td>\n",
       "      <td>31</td>\n",
       "      <td>no</td>\n",
       "      <td>male</td>\n",
       "      <td>yes</td>\n",
       "      <td>yes</td>\n",
       "      <td>yes</td>\n",
       "      <td>4</td>\n",
       "      <td>south</td>\n",
       "      <td>cauc</td>\n",
       "      <td>bachelor</td>\n",
       "    </tr>\n",
       "    <tr>\n",
       "      <th>1</th>\n",
       "      <td>2</td>\n",
       "      <td>yes</td>\n",
       "      <td>31</td>\n",
       "      <td>no</td>\n",
       "      <td>female</td>\n",
       "      <td>yes</td>\n",
       "      <td>yes</td>\n",
       "      <td>no</td>\n",
       "      <td>4</td>\n",
       "      <td>south</td>\n",
       "      <td>cauc</td>\n",
       "      <td>highschool</td>\n",
       "    </tr>\n",
       "    <tr>\n",
       "      <th>2</th>\n",
       "      <td>3</td>\n",
       "      <td>yes</td>\n",
       "      <td>54</td>\n",
       "      <td>no</td>\n",
       "      <td>male</td>\n",
       "      <td>yes</td>\n",
       "      <td>yes</td>\n",
       "      <td>no</td>\n",
       "      <td>5</td>\n",
       "      <td>west</td>\n",
       "      <td>cauc</td>\n",
       "      <td>ged</td>\n",
       "    </tr>\n",
       "    <tr>\n",
       "      <th>3</th>\n",
       "      <td>4</td>\n",
       "      <td>yes</td>\n",
       "      <td>27</td>\n",
       "      <td>no</td>\n",
       "      <td>male</td>\n",
       "      <td>yes</td>\n",
       "      <td>no</td>\n",
       "      <td>no</td>\n",
       "      <td>5</td>\n",
       "      <td>west</td>\n",
       "      <td>cauc</td>\n",
       "      <td>highschool</td>\n",
       "    </tr>\n",
       "    <tr>\n",
       "      <th>4</th>\n",
       "      <td>5</td>\n",
       "      <td>yes</td>\n",
       "      <td>39</td>\n",
       "      <td>no</td>\n",
       "      <td>male</td>\n",
       "      <td>yes</td>\n",
       "      <td>yes</td>\n",
       "      <td>no</td>\n",
       "      <td>5</td>\n",
       "      <td>west</td>\n",
       "      <td>cauc</td>\n",
       "      <td>none</td>\n",
       "    </tr>\n",
       "  </tbody>\n",
       "</table>\n",
       "</div>"
      ],
      "text/plain": [
       "   Unnamed: 0 health  age limit  gender insurance married selfemp  family  \\\n",
       "0           1    yes   31    no    male       yes     yes     yes       4   \n",
       "1           2    yes   31    no  female       yes     yes      no       4   \n",
       "2           3    yes   54    no    male       yes     yes      no       5   \n",
       "3           4    yes   27    no    male       yes      no      no       5   \n",
       "4           5    yes   39    no    male       yes     yes      no       5   \n",
       "\n",
       "  region ethnicity   education  \n",
       "0  south      cauc    bachelor  \n",
       "1  south      cauc  highschool  \n",
       "2   west      cauc         ged  \n",
       "3   west      cauc  highschool  \n",
       "4   west      cauc        none  "
      ]
     },
     "execution_count": 3,
     "metadata": {},
     "output_type": "execute_result"
    }
   ],
   "source": [
    "# Display the first few rows of the DataFrame (default 5 rows)\n",
    "health_data.head()"
   ]
  },
  {
   "cell_type": "code",
   "execution_count": 4,
   "id": "26fe4941",
   "metadata": {},
   "outputs": [
    {
     "data": {
      "text/plain": [
       "(8802, 12)"
      ]
     },
     "execution_count": 4,
     "metadata": {},
     "output_type": "execute_result"
    }
   ],
   "source": [
    "health_data.shape"
   ]
  },
  {
   "cell_type": "code",
   "execution_count": 5,
   "id": "e57754b7",
   "metadata": {},
   "outputs": [],
   "source": [
    "# Remove the unnamed column since it doesn't appear to contain any useful information \n",
    "# and is essentially just a duplicate of the index\n",
    "health_data.drop(columns='Unnamed: 0', inplace=True)"
   ]
  },
  {
   "cell_type": "code",
   "execution_count": 6,
   "id": "356e370b",
   "metadata": {},
   "outputs": [
    {
     "data": {
      "text/html": [
       "<div>\n",
       "<style scoped>\n",
       "    .dataframe tbody tr th:only-of-type {\n",
       "        vertical-align: middle;\n",
       "    }\n",
       "\n",
       "    .dataframe tbody tr th {\n",
       "        vertical-align: top;\n",
       "    }\n",
       "\n",
       "    .dataframe thead th {\n",
       "        text-align: right;\n",
       "    }\n",
       "</style>\n",
       "<table border=\"1\" class=\"dataframe\">\n",
       "  <thead>\n",
       "    <tr style=\"text-align: right;\">\n",
       "      <th></th>\n",
       "      <th>health</th>\n",
       "      <th>age</th>\n",
       "      <th>limit</th>\n",
       "      <th>gender</th>\n",
       "      <th>insurance</th>\n",
       "      <th>married</th>\n",
       "      <th>selfemp</th>\n",
       "      <th>family</th>\n",
       "      <th>region</th>\n",
       "      <th>ethnicity</th>\n",
       "      <th>education</th>\n",
       "    </tr>\n",
       "  </thead>\n",
       "  <tbody>\n",
       "    <tr>\n",
       "      <th>0</th>\n",
       "      <td>yes</td>\n",
       "      <td>31</td>\n",
       "      <td>no</td>\n",
       "      <td>male</td>\n",
       "      <td>yes</td>\n",
       "      <td>yes</td>\n",
       "      <td>yes</td>\n",
       "      <td>4</td>\n",
       "      <td>south</td>\n",
       "      <td>cauc</td>\n",
       "      <td>bachelor</td>\n",
       "    </tr>\n",
       "    <tr>\n",
       "      <th>1</th>\n",
       "      <td>yes</td>\n",
       "      <td>31</td>\n",
       "      <td>no</td>\n",
       "      <td>female</td>\n",
       "      <td>yes</td>\n",
       "      <td>yes</td>\n",
       "      <td>no</td>\n",
       "      <td>4</td>\n",
       "      <td>south</td>\n",
       "      <td>cauc</td>\n",
       "      <td>highschool</td>\n",
       "    </tr>\n",
       "    <tr>\n",
       "      <th>2</th>\n",
       "      <td>yes</td>\n",
       "      <td>54</td>\n",
       "      <td>no</td>\n",
       "      <td>male</td>\n",
       "      <td>yes</td>\n",
       "      <td>yes</td>\n",
       "      <td>no</td>\n",
       "      <td>5</td>\n",
       "      <td>west</td>\n",
       "      <td>cauc</td>\n",
       "      <td>ged</td>\n",
       "    </tr>\n",
       "    <tr>\n",
       "      <th>3</th>\n",
       "      <td>yes</td>\n",
       "      <td>27</td>\n",
       "      <td>no</td>\n",
       "      <td>male</td>\n",
       "      <td>yes</td>\n",
       "      <td>no</td>\n",
       "      <td>no</td>\n",
       "      <td>5</td>\n",
       "      <td>west</td>\n",
       "      <td>cauc</td>\n",
       "      <td>highschool</td>\n",
       "    </tr>\n",
       "    <tr>\n",
       "      <th>4</th>\n",
       "      <td>yes</td>\n",
       "      <td>39</td>\n",
       "      <td>no</td>\n",
       "      <td>male</td>\n",
       "      <td>yes</td>\n",
       "      <td>yes</td>\n",
       "      <td>no</td>\n",
       "      <td>5</td>\n",
       "      <td>west</td>\n",
       "      <td>cauc</td>\n",
       "      <td>none</td>\n",
       "    </tr>\n",
       "  </tbody>\n",
       "</table>\n",
       "</div>"
      ],
      "text/plain": [
       "  health  age limit  gender insurance married selfemp  family region  \\\n",
       "0    yes   31    no    male       yes     yes     yes       4  south   \n",
       "1    yes   31    no  female       yes     yes      no       4  south   \n",
       "2    yes   54    no    male       yes     yes      no       5   west   \n",
       "3    yes   27    no    male       yes      no      no       5   west   \n",
       "4    yes   39    no    male       yes     yes      no       5   west   \n",
       "\n",
       "  ethnicity   education  \n",
       "0      cauc    bachelor  \n",
       "1      cauc  highschool  \n",
       "2      cauc         ged  \n",
       "3      cauc  highschool  \n",
       "4      cauc        none  "
      ]
     },
     "execution_count": 6,
     "metadata": {},
     "output_type": "execute_result"
    }
   ],
   "source": [
    "health_data.head()"
   ]
  },
  {
   "cell_type": "code",
   "execution_count": 7,
   "id": "06778ae8",
   "metadata": {},
   "outputs": [
    {
     "name": "stdout",
     "output_type": "stream",
     "text": [
      "<class 'pandas.core.frame.DataFrame'>\n",
      "RangeIndex: 8802 entries, 0 to 8801\n",
      "Data columns (total 11 columns):\n",
      " #   Column     Non-Null Count  Dtype \n",
      "---  ------     --------------  ----- \n",
      " 0   health     8802 non-null   object\n",
      " 1   age        8802 non-null   int64 \n",
      " 2   limit      8802 non-null   object\n",
      " 3   gender     8802 non-null   object\n",
      " 4   insurance  8802 non-null   object\n",
      " 5   married    8802 non-null   object\n",
      " 6   selfemp    8802 non-null   object\n",
      " 7   family     8802 non-null   int64 \n",
      " 8   region     8802 non-null   object\n",
      " 9   ethnicity  8802 non-null   object\n",
      " 10  education  8802 non-null   object\n",
      "dtypes: int64(2), object(9)\n",
      "memory usage: 756.5+ KB\n"
     ]
    }
   ],
   "source": [
    "# Get information about the data\n",
    "health_data.info()"
   ]
  },
  {
   "cell_type": "code",
   "execution_count": 8,
   "id": "3dbc9c74",
   "metadata": {},
   "outputs": [
    {
     "data": {
      "text/plain": [
       "health       0\n",
       "age          0\n",
       "limit        0\n",
       "gender       0\n",
       "insurance    0\n",
       "married      0\n",
       "selfemp      0\n",
       "family       0\n",
       "region       0\n",
       "ethnicity    0\n",
       "education    0\n",
       "dtype: int64"
      ]
     },
     "execution_count": 8,
     "metadata": {},
     "output_type": "execute_result"
    }
   ],
   "source": [
    "# Check for any missing values in each column\n",
    "health_data.isnull().sum()"
   ]
  },
  {
   "cell_type": "code",
   "execution_count": 9,
   "id": "ee2ceb6f",
   "metadata": {},
   "outputs": [
    {
     "data": {
      "text/plain": [
       "(7391, 11)"
      ]
     },
     "execution_count": 9,
     "metadata": {},
     "output_type": "execute_result"
    }
   ],
   "source": [
    "# Check for and drop duplicate rows\n",
    "health_data.drop_duplicates(inplace=True)\n",
    "health_data.shape"
   ]
  },
  {
   "cell_type": "code",
   "execution_count": 10,
   "id": "79d81139",
   "metadata": {},
   "outputs": [
    {
     "name": "stdout",
     "output_type": "stream",
     "text": [
      "{'health': array(['yes', 'no'], dtype=object), 'age': array([31, 54, 27, 39, 32, 56, 60, 62, 52, 50, 44, 26, 38, 48, 53, 23, 43,\n",
      "       40, 25, 22, 51, 58, 45, 18, 61, 33, 55, 30, 28, 21, 42, 36, 46, 29,\n",
      "       35, 20, 47, 34, 49, 57, 37, 41, 24, 19, 59], dtype=int64), 'limit': array(['no', 'yes'], dtype=object), 'gender': array(['male', 'female'], dtype=object), 'insurance': array(['yes', 'no'], dtype=object), 'married': array(['yes', 'no'], dtype=object), 'selfemp': array(['yes', 'no'], dtype=object), 'family': array([ 4,  5,  3,  2,  1,  7,  8,  6, 10,  9, 11, 14, 13], dtype=int64), 'region': array(['south', 'west', 'northeast', 'midwest'], dtype=object), 'ethnicity': array(['cauc', 'afam', 'other'], dtype=object), 'education': array(['bachelor', 'highschool', 'ged', 'none', 'master', 'phd', 'other'],\n",
      "      dtype=object)}\n"
     ]
    }
   ],
   "source": [
    "# Check for unique values in each column\n",
    "unique_values = {}\n",
    "for col in health_data.columns:\n",
    "    unique_values[col] = health_data[col].unique()\n",
    "\n",
    "print(unique_values)"
   ]
  },
  {
   "cell_type": "code",
   "execution_count": 11,
   "id": "a092d69a",
   "metadata": {},
   "outputs": [
    {
     "data": {
      "text/plain": [
       "(7291, 11)"
      ]
     },
     "execution_count": 11,
     "metadata": {},
     "output_type": "execute_result"
    }
   ],
   "source": [
    "# Check for outliers in the numeric columns ('age', 'family') using zscores\n",
    "from scipy.stats import zscore\n",
    "\n",
    "numeric_columns = ['age', 'family']\n",
    "z_scores = zscore(health_data[numeric_columns])\n",
    "health_data = health_data[(z_scores < 3).all(axis=1)]\n",
    "health_data.shape"
   ]
  },
  {
   "cell_type": "code",
   "execution_count": 12,
   "id": "5c323de9",
   "metadata": {},
   "outputs": [
    {
     "data": {
      "text/html": [
       "<div>\n",
       "<style scoped>\n",
       "    .dataframe tbody tr th:only-of-type {\n",
       "        vertical-align: middle;\n",
       "    }\n",
       "\n",
       "    .dataframe tbody tr th {\n",
       "        vertical-align: top;\n",
       "    }\n",
       "\n",
       "    .dataframe thead th {\n",
       "        text-align: right;\n",
       "    }\n",
       "</style>\n",
       "<table border=\"1\" class=\"dataframe\">\n",
       "  <thead>\n",
       "    <tr style=\"text-align: right;\">\n",
       "      <th></th>\n",
       "      <th>health</th>\n",
       "      <th>age</th>\n",
       "      <th>limit</th>\n",
       "      <th>gender</th>\n",
       "      <th>insurance</th>\n",
       "      <th>married</th>\n",
       "      <th>selfemp</th>\n",
       "      <th>family</th>\n",
       "      <th>region</th>\n",
       "      <th>ethnicity</th>\n",
       "      <th>education</th>\n",
       "    </tr>\n",
       "  </thead>\n",
       "  <tbody>\n",
       "    <tr>\n",
       "      <th>0</th>\n",
       "      <td>yes</td>\n",
       "      <td>31</td>\n",
       "      <td>no</td>\n",
       "      <td>male</td>\n",
       "      <td>yes</td>\n",
       "      <td>yes</td>\n",
       "      <td>yes</td>\n",
       "      <td>4</td>\n",
       "      <td>south</td>\n",
       "      <td>cauc</td>\n",
       "      <td>bachelor</td>\n",
       "    </tr>\n",
       "    <tr>\n",
       "      <th>1</th>\n",
       "      <td>yes</td>\n",
       "      <td>31</td>\n",
       "      <td>no</td>\n",
       "      <td>female</td>\n",
       "      <td>yes</td>\n",
       "      <td>yes</td>\n",
       "      <td>no</td>\n",
       "      <td>4</td>\n",
       "      <td>south</td>\n",
       "      <td>cauc</td>\n",
       "      <td>highschool</td>\n",
       "    </tr>\n",
       "    <tr>\n",
       "      <th>2</th>\n",
       "      <td>yes</td>\n",
       "      <td>54</td>\n",
       "      <td>no</td>\n",
       "      <td>male</td>\n",
       "      <td>yes</td>\n",
       "      <td>yes</td>\n",
       "      <td>no</td>\n",
       "      <td>5</td>\n",
       "      <td>west</td>\n",
       "      <td>cauc</td>\n",
       "      <td>ged</td>\n",
       "    </tr>\n",
       "    <tr>\n",
       "      <th>3</th>\n",
       "      <td>yes</td>\n",
       "      <td>27</td>\n",
       "      <td>no</td>\n",
       "      <td>male</td>\n",
       "      <td>yes</td>\n",
       "      <td>no</td>\n",
       "      <td>no</td>\n",
       "      <td>5</td>\n",
       "      <td>west</td>\n",
       "      <td>cauc</td>\n",
       "      <td>highschool</td>\n",
       "    </tr>\n",
       "    <tr>\n",
       "      <th>4</th>\n",
       "      <td>yes</td>\n",
       "      <td>39</td>\n",
       "      <td>no</td>\n",
       "      <td>male</td>\n",
       "      <td>yes</td>\n",
       "      <td>yes</td>\n",
       "      <td>no</td>\n",
       "      <td>5</td>\n",
       "      <td>west</td>\n",
       "      <td>cauc</td>\n",
       "      <td>none</td>\n",
       "    </tr>\n",
       "  </tbody>\n",
       "</table>\n",
       "</div>"
      ],
      "text/plain": [
       "  health  age limit  gender insurance married selfemp  family region  \\\n",
       "0    yes   31    no    male       yes     yes     yes       4  south   \n",
       "1    yes   31    no  female       yes     yes      no       4  south   \n",
       "2    yes   54    no    male       yes     yes      no       5   west   \n",
       "3    yes   27    no    male       yes      no      no       5   west   \n",
       "4    yes   39    no    male       yes     yes      no       5   west   \n",
       "\n",
       "  ethnicity   education  \n",
       "0      cauc    bachelor  \n",
       "1      cauc  highschool  \n",
       "2      cauc         ged  \n",
       "3      cauc  highschool  \n",
       "4      cauc        none  "
      ]
     },
     "execution_count": 12,
     "metadata": {},
     "output_type": "execute_result"
    }
   ],
   "source": [
    "health_data.head()"
   ]
  },
  {
   "cell_type": "code",
   "execution_count": 13,
   "id": "945ed56d",
   "metadata": {},
   "outputs": [
    {
     "data": {
      "text/html": [
       "<div>\n",
       "<style scoped>\n",
       "    .dataframe tbody tr th:only-of-type {\n",
       "        vertical-align: middle;\n",
       "    }\n",
       "\n",
       "    .dataframe tbody tr th {\n",
       "        vertical-align: top;\n",
       "    }\n",
       "\n",
       "    .dataframe thead th {\n",
       "        text-align: right;\n",
       "    }\n",
       "</style>\n",
       "<table border=\"1\" class=\"dataframe\">\n",
       "  <thead>\n",
       "    <tr style=\"text-align: right;\">\n",
       "      <th></th>\n",
       "      <th>age</th>\n",
       "      <th>family</th>\n",
       "    </tr>\n",
       "  </thead>\n",
       "  <tbody>\n",
       "    <tr>\n",
       "      <th>count</th>\n",
       "      <td>7291.000000</td>\n",
       "      <td>7291.000000</td>\n",
       "    </tr>\n",
       "    <tr>\n",
       "      <th>mean</th>\n",
       "      <td>39.158003</td>\n",
       "      <td>3.035935</td>\n",
       "    </tr>\n",
       "    <tr>\n",
       "      <th>std</th>\n",
       "      <td>11.153069</td>\n",
       "      <td>1.453183</td>\n",
       "    </tr>\n",
       "    <tr>\n",
       "      <th>min</th>\n",
       "      <td>18.000000</td>\n",
       "      <td>1.000000</td>\n",
       "    </tr>\n",
       "    <tr>\n",
       "      <th>25%</th>\n",
       "      <td>30.000000</td>\n",
       "      <td>2.000000</td>\n",
       "    </tr>\n",
       "    <tr>\n",
       "      <th>50%</th>\n",
       "      <td>39.000000</td>\n",
       "      <td>3.000000</td>\n",
       "    </tr>\n",
       "    <tr>\n",
       "      <th>75%</th>\n",
       "      <td>48.000000</td>\n",
       "      <td>4.000000</td>\n",
       "    </tr>\n",
       "    <tr>\n",
       "      <th>max</th>\n",
       "      <td>62.000000</td>\n",
       "      <td>7.000000</td>\n",
       "    </tr>\n",
       "  </tbody>\n",
       "</table>\n",
       "</div>"
      ],
      "text/plain": [
       "               age       family\n",
       "count  7291.000000  7291.000000\n",
       "mean     39.158003     3.035935\n",
       "std      11.153069     1.453183\n",
       "min      18.000000     1.000000\n",
       "25%      30.000000     2.000000\n",
       "50%      39.000000     3.000000\n",
       "75%      48.000000     4.000000\n",
       "max      62.000000     7.000000"
      ]
     },
     "execution_count": 13,
     "metadata": {},
     "output_type": "execute_result"
    }
   ],
   "source": [
    "# Summary statistics of the numerical columns\n",
    "health_data.describe()"
   ]
  },
  {
   "cell_type": "code",
   "execution_count": 14,
   "id": "2d4096a9",
   "metadata": {},
   "outputs": [],
   "source": [
    "# The Analysis Proper\n",
    "# Perform some Exploratory Data Analysis (EDA) to gain insights about the data"
   ]
  },
  {
   "cell_type": "markdown",
   "id": "957a9ff3",
   "metadata": {},
   "source": [
    "### 1. How does age, gender, and region influence health insurance coverage?"
   ]
  },
  {
   "cell_type": "code",
   "execution_count": 14,
   "id": "27e1c540",
   "metadata": {},
   "outputs": [],
   "source": [
    "# To explore this question, we'll analyze the \"HealthInsurance\" dataset and \n",
    "# Investigate how age, gender, and region relate to health insurance coverage. \n",
    "# We'll use visualizations and statistical summaries to gain insights into these relationships."
   ]
  },
  {
   "cell_type": "code",
   "execution_count": 15,
   "id": "fa88f4e0",
   "metadata": {},
   "outputs": [
    {
     "data": {
      "image/png": "[encoded data removed]",
      "text/plain": [
       "<Figure size 640x480 with 1 Axes>"
      ]
     },
     "metadata": {},
     "output_type": "display_data"
    }
   ],
   "source": [
    "# Visualize Age and Health Insurance Coverage\n",
    "# Box plot of 'age' distribution by health insurance status\n",
    "sns.boxplot(x='insurance', y='age', data=health_data, palette='Set2')\n",
    "plt.title(\"Age Distribution by Health Insurance Status\")\n",
    "plt.xlabel(\"Health Insurance\")\n",
    "plt.ylabel(\"Age\")\n",
    "plt.show()"
   ]
  },
  {
   "cell_type": "code",
   "execution_count": 16,
   "id": "bf3e03aa",
   "metadata": {},
   "outputs": [
    {
     "data": {
      "image/png": "[encoded data removed]",
      "text/plain": [
       "<Figure size 640x480 with 1 Axes>"
      ]
     },
     "metadata": {},
     "output_type": "display_data"
    }
   ],
   "source": [
    "# Visualize Gender and Health Insurance Coverage\n",
    "# Bar chart of health insurance coverage by gender\n",
    "sns.countplot(x='gender', hue='insurance', data=health_data, palette='Set2')\n",
    "plt.title(\"Health Insurance Coverage by Gender\")\n",
    "plt.xlabel(\"Gender\")\n",
    "plt.ylabel(\"Count\")\n",
    "plt.show()"
   ]
  },
  {
   "cell_type": "code",
   "execution_count": 17,
   "id": "d232bddb",
   "metadata": {
    "scrolled": true
   },
   "outputs": [
    {
     "data": {
      "image/png": "[encoded data removed]",
      "text/plain": [
       "<Figure size 640x480 with 1 Axes>"
      ]
     },
     "metadata": {},
     "output_type": "display_data"
    }
   ],
   "source": [
    "# Visualize Gender and Health Insurance Coverage\n",
    "# Bar chart of health insurance coverage by region\n",
    "sns.countplot(x='region', hue='insurance', data=health_data, palette='Set2')\n",
    "plt.title(\"Health Insurance Coverage by Region\")\n",
    "plt.xlabel(\"Region\")\n",
    "plt.ylabel(\"Count\")\n",
    "plt.show()"
   ]
  },
  {
   "cell_type": "markdown",
   "id": "42be31d2",
   "metadata": {},
   "source": [
    "#### The Analysis of the results \n",
    "Age and Health Insurance Coverage:\n",
    "\n",
    "- The mean age of insured individuals (40.09 years) is higher than that of uninsured individuals (35.93 years).\n",
    "- The standard deviation of age for both insured and uninsured individuals indicates moderate variability.\n",
    "- Insured individuals tend to have slightly higher quartiles (25%, 50%, 75%) compared to uninsured individuals, suggesting that the insured population covers a broader age range.\n",
    "\n",
    "Gender and Health Insurance Coverage:\n",
    "\n",
    "- Approximately 80.36% of females have health insurance, while 19.64% do not.\n",
    "- About 75.20% of males have health insurance, while 24.80% do not.\n",
    "- The percentage of insured individuals is higher for males compared to females.\n",
    "\n",
    "Region and Health Insurance Coverage:\n",
    "\n",
    "- The percentage of insured individuals is highest in the \"midwest\" region (around 82.58%) and closely followed by the \"northeast\" region (80.60%).\n",
    "- The \"south\" region has a slightly lower percentage of insured individuals (74.91%), and the \"west\" region has the lowest percentage (74.51%).\n",
    "\n",
    "\n",
    "From these Observations, we conclude that:\n",
    "Age, gender, and region have a notable influence on health insurance coverage based on the analysis of the dataset.\n",
    "\n",
    "- Age: Insured individuals tend to be slightly older, with a mean age of 40.09 years, while uninsured individuals have a lower mean age of 35.93 years. The insured population covers a broader age range, indicating that health insurance coverage becomes more prevalent as people age.\n",
    "\n",
    "- Gender: The percentage of females with health insurance is higher at approximately 80.36%, compared to males at around 75.20%. This suggests that females are more likely to have health insurance than males.\n",
    "\n",
    "- Region: Health insurance coverage varies by region, with the \"midwest\" having the highest percentage of insured individuals at approximately 82.58%, closely followed by the \"northeast\" at 80.60%. The \"south\" and \"west\" regions have slightly lower percentages at 74.91% and 74.51%, respectively.\n",
    "\n",
    "While these observations highlight important trends, the analysis is based on a specific dataset and may have limitations. Additional research with larger and more diverse datasets is essential to gain a comprehensive understanding of the complex factors influencing health insurance coverage."
   ]
  },
  {
   "cell_type": "markdown",
   "id": "f4513e1d",
   "metadata": {},
   "source": [
    "### 2. What are the preferences for health insurance plans based on ethnicity and education level?"
   ]
  },
  {
   "cell_type": "code",
   "execution_count": 18,
   "id": "4c40ee35",
   "metadata": {},
   "outputs": [],
   "source": [
    "# We'll explore how health insurance plan preferences vary among different ethnic groups and education levels, to do this, \n",
    "# we'll use visualizations and summary statistics to gain insights into the relationship between health insurance coverage and ethnicity, \n",
    "# as well as health insurance plan preferences based on education level."
   ]
  },
  {
   "cell_type": "code",
   "execution_count": 19,
   "id": "f6fbb2b6",
   "metadata": {},
   "outputs": [
    {
     "data": {
      "image/png": "[encoded data removed]",
      "text/plain": [
       "<Figure size 640x480 with 1 Axes>"
      ]
     },
     "metadata": {},
     "output_type": "display_data"
    }
   ],
   "source": [
    "# Visualize Health Insurance Plan Preferences by Ethnicity\n",
    "# Bar chart of health insurance plan preferences by ethnicity\n",
    "sns.countplot(x='ethnicity', hue='insurance', data=health_data, palette='Set2')\n",
    "plt.title(\"Health Insurance Plan Preferences by Ethnicity\")\n",
    "plt.xlabel(\"Ethnicity\")\n",
    "plt.ylabel(\"Count\")\n",
    "plt.show()"
   ]
  },
  {
   "cell_type": "code",
   "execution_count": 20,
   "id": "c8780336",
   "metadata": {
    "scrolled": true
   },
   "outputs": [
    {
     "data": {
      "image/png": "[encoded data removed]",
      "text/plain": [
       "<Figure size 640x480 with 1 Axes>"
      ]
     },
     "metadata": {},
     "output_type": "display_data"
    }
   ],
   "source": [
    "# Visualize Health Insurance Plan Preferences based on Education Level\n",
    "# Bar chart of health insurance plan preferences by education level\n",
    "sns.countplot(x='education', hue='insurance', data=health_data, palette='Set2', order=sorted(health_data['education'].unique()))\n",
    "plt.title(\"Health Insurance Plan Preferences by Education Level\")\n",
    "plt.xlabel(\"Education Level\")\n",
    "plt.ylabel(\"Count\")\n",
    "plt.xticks(rotation=45, ha='right')\n",
    "plt.show()"
   ]
  },
  {
   "cell_type": "markdown",
   "id": "2888ae75",
   "metadata": {},
   "source": [
    "#### The Analysis of the results\n",
    "\n",
    "Health Insurance Plan Preferences by Ethnicity:\n",
    "\n",
    "- Among the ethnic groups, Caucasians (cauc) have the highest percentage of insured individuals (78.15%), followed closely by African-Americans (afam) with 75.58% and individuals from other ethnicities (other) with 75%.\n",
    "- On the other hand, the percentage of uninsured individuals is higher for individuals from other ethnicities (25%) compared to African-Americans (24.42%) and Caucasians (21.85%).\n",
    "\n",
    "Health Insurance Plan Preferences by Education Level:\n",
    "\n",
    "- Individuals with higher education levels, such as master's and bachelor's degrees, have a higher percentage of insured individuals, with 93.44% and 87.16%, respectively.\n",
    "- Individuals with a PhD have the lowest percentage of insured individuals at 94.03%, but the sample size for this group is relatively small (n=134).\n",
    "- Individuals with a high school diploma have a relatively balanced distribution, with approximately 77.48% insured and 22.52% uninsured.\n",
    "- Individuals with a GED have a higher percentage of uninsured individuals at 70.05%.\n",
    "- Individuals with no degree and other education levels have higher percentages of uninsured individuals at 53.99% and 86.15%, respectively.\n",
    "\n",
    "From these observations, we conclude that;\n",
    "Health insurance plan preferences based on ethnicity and education level indicate significant variations in coverage rates.\n",
    "Ethnicity and education level influence health insurance coverage preferences significantly. \n",
    "- Caucasians have the highest insured percentage (78.15%), followed by African-Americans (75.58%) and other ethnicities (75%). \n",
    "- Individuals with higher education levels, like master's and bachelor's degrees, show strong preferences for health insurance, with rates of 93.44% and 87.16%, respectively. \n",
    "- The uninsured percentage is highest for individuals with no degrees (53.99%) and other education levels (86.15%). \n",
    "These disparities are influenced by cultural, socioeconomic, and job-related factors."
   ]
  },
  {
   "cell_type": "markdown",
   "id": "d45fa195",
   "metadata": {},
   "source": [
    "### 3: Does marital status influence the likelihood of having health insurance? \n",
    "\n",
    "### How does the health insurance coverage differ between married and unmarried individuals?"
   ]
  },
  {
   "cell_type": "code",
   "execution_count": 21,
   "id": "ce4f72d9",
   "metadata": {},
   "outputs": [],
   "source": [
    "# Explore the relationship between marital status and health insurance coverage.\n",
    "# Compare the percentage of insured and uninsured individuals within different marital status categories and examine any significant differences between them. \n",
    "# Analyze how marital status impacts the extent of health insurance coverage."
   ]
  },
  {
   "cell_type": "code",
   "execution_count": 22,
   "id": "fb6ff6a6",
   "metadata": {},
   "outputs": [
    {
     "data": {
      "image/png": "[encoded data removed]",
      "text/plain": [
       "<Figure size 640x480 with 1 Axes>"
      ]
     },
     "metadata": {},
     "output_type": "display_data"
    }
   ],
   "source": [
    "# Create a countplot to visualize the distribution of health insurance coverage among different marital status categories.\n",
    "sns.countplot(x='married', hue='insurance', data=health_data, palette='Set2')\n",
    "plt.title(\"Health Insurance Coverage by Marital Status\")\n",
    "plt.xlabel(\"Marital Status\")\n",
    "plt.ylabel(\"Count\")\n",
    "plt.show()"
   ]
  },
  {
   "cell_type": "code",
   "execution_count": 23,
   "id": "bd30011d",
   "metadata": {},
   "outputs": [
    {
     "name": "stdout",
     "output_type": "stream",
     "text": [
      "insurance         no        yes\n",
      "married                        \n",
      "no         30.852871  69.147129\n",
      "yes        16.605336  83.394664\n"
     ]
    }
   ],
   "source": [
    "# Summary statistics\n",
    "percentage_insured_by_marital_status = health_data.groupby('married')['insurance'].value_counts(normalize=True).unstack().fillna(0) * 100\n",
    "print(percentage_insured_by_marital_status)"
   ]
  },
  {
   "cell_type": "markdown",
   "id": "b290c4d1",
   "metadata": {},
   "source": [
    "#### Health Insurance Coverage by Marital Status:\n",
    "\n",
    "- Among unmarried individuals (married = \"no\"), 30.85% are uninsured, and 69.15% have health insurance.\n",
    "- Among married individuals (married = \"yes\"), 16.61% are uninsured, and 83.39% have health insurance.\n",
    "\n",
    "Observation:\n",
    "\n",
    "- Married individuals have a significantly higher health insurance coverage rate (83.39%) compared to unmarried individuals (69.15%).\n",
    "- Unmarried individuals have a relatively higher percentage of uninsured individuals (30.85%) compared to married individuals (16.61%).\n",
    "\n",
    "Conclusion:\n",
    "\n",
    "Marital status influences health insurance coverage rates, with married individuals more likely to have health insurance compared to unmarried individuals. \n",
    "This finding underscores the importance of considering marital status in healthcare policies and strategies to improve overall health insurance coverage rates."
   ]
  },
  {
   "cell_type": "markdown",
   "id": "31c81a5d",
   "metadata": {},
   "source": [
    "The analysis reveals that marital status significantly impacts health insurance coverage, with married individuals having a higher rate of coverage (83.39%) compared to unmarried individuals (69.15%). This disparity may be attributed to various factors, such as shared financial responsibilities among married couples and the availability of family insurance plans.\n",
    "\n",
    "Policymakers and healthcare providers should pay attention to the lower coverage rates among unmarried individuals and develop targeted strategies to address this gap. Initiatives like providing subsidies for individual health insurance plans, creating awareness campaigns, and expanding Medicaid eligibility could help increase coverage rates for this group.\n",
    "\n",
    "Additionally, exploring options to make family insurance plans more accessible and affordable can further improve health insurance coverage for both married and unmarried individuals. By addressing these disparities, policymakers can promote better healthcare outcomes and ensure that more people have access to essential medical services."
   ]
  },
  {
   "cell_type": "markdown",
   "id": "7c8997d0",
   "metadata": {},
   "source": [
    "### 4. Does self-employment affect the decision to purchase health insurance? \n",
    "### Are self-employed individuals more or less likely to have health insurance compared to those in traditional employment?"
   ]
  },
  {
   "cell_type": "code",
   "execution_count": 24,
   "id": "1f95766d",
   "metadata": {
    "scrolled": true
   },
   "outputs": [],
   "source": [
    "# To analyze whether self-employment affects the decision to purchase health insurance, \n",
    "# we can compare the health insurance coverage rates between self-employed individuals and those in traditional employment."
   ]
  },
  {
   "cell_type": "code",
   "execution_count": 25,
   "id": "fad73ed8",
   "metadata": {},
   "outputs": [],
   "source": [
    "# Filter the data to separate self-employed individuals from those in traditional employment\n",
    "# Filter the data to separate self-employed individuals\n",
    "self_employed_data = health_data[health_data['selfemp'] == 'yes']\n",
    "\n",
    "# Filter the data to separate individuals in traditional employment\n",
    "traditional_employment_data = health_data[health_data['selfemp'] == 'no']"
   ]
  },
  {
   "cell_type": "code",
   "execution_count": 26,
   "id": "8e1d201c",
   "metadata": {},
   "outputs": [
    {
     "name": "stdout",
     "output_type": "stream",
     "text": [
      "Percentage of self-employed individuals with health insurance: 68.09%\n",
      "Percentage of individuals in traditional employment with health insurance: 79.17%\n"
     ]
    }
   ],
   "source": [
    "# Calculate the percentage of insured individuals among self-employed individuals\n",
    "self_employed_coverage = (self_employed_data['insurance'] == 'yes').mean() * 100\n",
    "\n",
    "# Calculate the percentage of insured individuals among individuals in traditional employment\n",
    "traditional_employment_coverage = (traditional_employment_data['insurance'] == 'yes').mean() * 100\n",
    "\n",
    "# Print the results\n",
    "print(f\"Percentage of self-employed individuals with health insurance: {self_employed_coverage:.2f}%\")\n",
    "print(f\"Percentage of individuals in traditional employment with health insurance: {traditional_employment_coverage:.2f}%\")"
   ]
  },
  {
   "cell_type": "code",
   "execution_count": 27,
   "id": "367f4844",
   "metadata": {},
   "outputs": [
    {
     "data": {
      "image/png": "[encoded data removed]",
      "text/plain": [
       "<Figure size 640x480 with 1 Axes>"
      ]
     },
     "metadata": {},
     "output_type": "display_data"
    }
   ],
   "source": [
    "# Create a visualization to compare the health insurance coverage between self-employed individuals and those in traditional employment\n",
    "employment_insurance = pd.DataFrame({\n",
    "    'employment': ['Self-Employed', 'Traditional Employment'],\n",
    "    'insurance': ['yes', 'yes'],\n",
    "    'percentage': [68.09, 79.17]\n",
    "})\n",
    "\n",
    "# Create the barplot\n",
    "sns.barplot(x='employment', y='percentage', data=employment_insurance, palette='Set2')\n",
    "plt.title(\"Health Insurance Coverage by Employment Type\")\n",
    "plt.xlabel(\"Employment Type\")\n",
    "plt.ylabel(\"Percentage with Health Insurance\")\n",
    "plt.ylim(0, 100)  # Set y-axis limit to 0-100\n",
    "plt.show()"
   ]
  },
  {
   "cell_type": "markdown",
   "id": "f862a75f",
   "metadata": {},
   "source": [
    "From the analysis, the following results were found:\n",
    "- Percentage of self-employed individuals with health insurance: 68.09%\n",
    "- Percentage of individuals in traditional employment with health insurance: 79.17%\n",
    "\n",
    "Interpretation:\n",
    "\n",
    "Self-employed individuals have a health insurance coverage rate of approximately 68.09%, while individuals in traditional employment have a higher health insurance coverage rate of about 79.17%. This suggests that individuals in traditional employment are more likely to have health insurance compared to self-employed individuals.\n",
    "\n",
    "Conclusion:\n",
    "\n",
    "It is evident that self-employment does have an impact on the decision to purchase health insurance. The data shows that self-employed individuals are less likely to have health insurance compared to those in traditional employment. Specifically, the percentage of self-employed individuals with health insurance is 68.09%, while the percentage of individuals in traditional employment with health insurance is higher at 79.17%.\n",
    "\n",
    "This suggests that self-employed individuals face greater challenges in obtaining health insurance coverage compared to their counterparts in traditional employment. \n",
    "The reasons for this disparity could be attributed to factors such as:\n",
    "- lack of employer-sponsored health insurance options for self-employed individuals, \n",
    "- the higher costs of purchasing individual health insurance plans, or \n",
    "- other financial constraints associated with self-employment.\n",
    "\n",
    "The findings underscore the importance of addressing the health insurance needs of self-employed individuals and implementing policies that promote affordable and accessible health insurance options for this group. It also highlights the potential disparities in health insurance coverage based on employment status, emphasizing the need for targeted efforts to ensure adequate coverage for all individuals, regardless of their employment type."
   ]
  },
  {
   "cell_type": "markdown",
   "id": "01e38489",
   "metadata": {},
   "source": [
    "### 5. Is there an association between health insurance coverage and health status among individuals?"
   ]
  },
  {
   "cell_type": "code",
   "execution_count": 28,
   "id": "301102f0",
   "metadata": {},
   "outputs": [
    {
     "name": "stdout",
     "output_type": "stream",
     "text": [
      "\n",
      "Unique health status:\n",
      "['yes' 'no']\n",
      "\n",
      "Unique insurance status:\n",
      "['yes' 'no']\n"
     ]
    }
   ],
   "source": [
    "unique_health_status = health_data['health'].unique()\n",
    "unique_insurance_status = health_data['insurance'].unique()\n",
    "print(\"\\nUnique health status:\")\n",
    "print(unique_health_status)\n",
    "print(\"\\nUnique insurance status:\")\n",
    "print(unique_insurance_status)"
   ]
  },
  {
   "cell_type": "code",
   "execution_count": 29,
   "id": "c48b8dac",
   "metadata": {},
   "outputs": [
    {
     "name": "stdout",
     "output_type": "stream",
     "text": [
      "Percentage of insured individuals by health status:\n",
      "insurance         no        yes\n",
      "health                         \n",
      "no         26.600985  73.399015\n",
      "yes        21.969470  78.030530\n"
     ]
    }
   ],
   "source": [
    "# Calculate the percentage of insured individuals for each health status\n",
    "health_insurance_percentage = health_data.groupby('health')['insurance'].value_counts(normalize=True).unstack() * 100\n",
    "\n",
    "print(\"Percentage of insured individuals by health status:\")\n",
    "print(health_insurance_percentage)"
   ]
  },
  {
   "cell_type": "code",
   "execution_count": 30,
   "id": "2f705c4b",
   "metadata": {},
   "outputs": [
    {
     "data": {
      "image/png": "[encoded data removed]",
      "text/plain": [
       "<Figure size 640x480 with 1 Axes>"
      ]
     },
     "metadata": {},
     "output_type": "display_data"
    }
   ],
   "source": [
    "# Visualize the relationship between health status and insurance coverage\n",
    "sns.barplot(x='health', y='yes', data=health_insurance_percentage.reset_index(), palette='Set2')\n",
    "plt.title(\"Health Insurance Coverage by Health Status\")\n",
    "plt.xlabel(\"Health Status\")\n",
    "plt.ylabel(\"Percentage of Insured Individuals\")\n",
    "plt.ylim(0, 100)  # Set y-axis limit to 0-100\n",
    "plt.show()"
   ]
  },
  {
   "cell_type": "code",
   "execution_count": 33,
   "id": "02cab279",
   "metadata": {},
   "outputs": [],
   "source": [
    "# To perform a correlation analysis between health insurance coverage and health status,\n",
    "# we need to create a contingency table and conduct a chi-square test of independence.\n",
    "# This test will help us determine if there is a statistically significant association between the two variables."
   ]
  },
  {
   "cell_type": "code",
   "execution_count": 34,
   "id": "eb96216b",
   "metadata": {},
   "outputs": [],
   "source": [
    "# Create a subset of the data with only the 'insurance' and 'health' columns\n",
    "subset_data = health_data[['insurance', 'health']]\n",
    "\n",
    "# Create the contingency table\n",
    "contingency_table = pd.crosstab(subset_data['insurance'], subset_data['health'])"
   ]
  },
  {
   "cell_type": "code",
   "execution_count": 35,
   "id": "5a239469",
   "metadata": {},
   "outputs": [],
   "source": [
    "# Conduct the chi-square test\n",
    "from scipy.stats import chi2_contingency\n",
    "\n",
    "chi2, p, dof, expected = chi2_contingency(contingency_table)"
   ]
  },
  {
   "cell_type": "code",
   "execution_count": 36,
   "id": "be2d0cd1",
   "metadata": {},
   "outputs": [
    {
     "name": "stdout",
     "output_type": "stream",
     "text": [
      "There is a statistically significant association between health insurance coverage and health status.\n"
     ]
    }
   ],
   "source": [
    "# Check the p-value\n",
    "alpha = 0.05\n",
    "if p < alpha:\n",
    "    print(\"There is a statistically significant association between health insurance coverage and health status.\")\n",
    "else:\n",
    "    print(\"There is no statistically significant association between health insurance coverage and health status.\")"
   ]
  },
  {
   "cell_type": "markdown",
   "id": "bb5fa2e4",
   "metadata": {},
   "source": [
    "From the analysis, the following results were found:\n",
    "\n",
    "Percentage of Insured Individuals by Health Status:\n",
    "\n",
    "- Among individuals with \"yes\" health status (healthy), 78.03% have health insurance coverage.\n",
    "- Among individuals with \"no\" health status (not healthy), 73.40% have health insurance coverage.\n",
    "\n",
    "Interpretation:\n",
    "\n",
    "The analysis reveals that there is a statistically significant association between health insurance coverage and health status among individuals. Individuals with \"yes\" health status (healthy) are more likely to have health insurance coverage compared to those with \"no\" health status (not healthy).\n",
    "\n",
    "However, it is important to note that a significant proportion of individuals with \"yes\" health status still do not have health insurance, indicating that other factors may also influence insurance decisions. This finding highlights the complexity of health insurance coverage decisions and the need for further investigation into the determinants of insurance coverage.\n",
    "\n",
    "Conclusion:\n",
    "\n",
    "The analysis shows that individuals with \"yes\" health status are more likely to have health insurance coverage compared to those with \"no\" health status. However, a significant proportion of healthy individuals still lack insurance. Understanding the reasons behind these disparities is crucial for developing targeted policies to improve access and equity in healthcare. Further research is needed to explore additional factors influencing insurance decisions. Addressing disparities in insurance coverage can lead to a more equitable healthcare system and better health outcomes for all."
   ]
  },
  {
   "cell_type": "code",
   "execution_count": null,
   "id": "2acaa008",
   "metadata": {},
   "outputs": [],
   "source": []
  },
  {
   "cell_type": "markdown",
   "id": "722007f2",
   "metadata": {},
   "source": [
    "## Conclusion:\n",
    "\n",
    "In this comprehensive analysis, I aimed to investigate several key questions related to health insurance coverage and its associations with demographic factors. The findings shed light on the complex dynamics that influence individuals' decisions to have health insurance and provided valuable insights into potential disparities in coverage rates.\n",
    "\n",
    "1. Age, Gender, and Region Influence on Health Insurance Coverage:\n",
    "The analysis revealed that age, gender, and region have a notable influence on health insurance coverage. Insured individuals tended to be slightly older, with a broader age range covered. Females showed a higher percentage of health insurance coverage compared to males. Regionally, the \"midwest\" had the highest percentage of insured individuals. These findings emphasize the importance of considering demographic factors when designing healthcare policies and interventions.\n",
    "\n",
    "2. Health Insurance Plan Preferences Based on Ethnicity and Education Level:\n",
    "Health insurance plan preferences varied significantly based on ethnicity and education level. Caucasians had the highest insured percentage, and individuals with higher education levels showed a strong preference for health insurance. On the other hand, individuals with no degrees and other education levels had higher percentages of uninsured individuals. These disparities highlight the need to address cultural and socioeconomic factors to improve equity in health insurance coverage.\n",
    "\n",
    "3. Marital Status and Health Insurance Coverage:\n",
    "Marital status had a substantial impact on health insurance coverage rates. Married individuals showed a significantly higher rate of coverage compared to unmarried individuals. Policymakers should consider marital status as a factor when developing strategies to improve overall health insurance coverage rates and promote better healthcare access for all.\n",
    "\n",
    "4. Influence of Self-Employment on Health Insurance Coverage:\n",
    "The analysis revealed that self-employed individuals were less likely to have health insurance coverage compared to those in traditional employment. This finding underscores the challenges faced by self-employed individuals in obtaining health insurance and emphasizes the need for targeted policies to address this disparity.\n",
    "\n",
    "5. Association Between Health Status and Health Insurance Coverage:\n",
    "The analysis showed that individuals with \"yes\" health status (healthy) were more likely to have health insurance coverage compared to those with \"no\" health status (not healthy). However, a significant proportion of healthy individuals still lacked insurance, indicating the influence of other factors on insurance decisions.\n",
    "\n",
    "Overall, the study provided valuable insights into the factors influencing health insurance coverage and its association with demographic characteristics. It is evident that health insurance coverage is influenced by multiple factors beyond health status, including age, gender, ethnicity, education level, marital status, and employment type. Addressing disparities in coverage rates and promoting equitable access to healthcare services should be a priority for policymakers and healthcare providers to ensure better health outcomes for all individuals.\n",
    "\n",
    "These findings underscore the need for further research and policy interventions to develop targeted strategies aimed at increasing health insurance coverage rates, especially for vulnerable populations. By considering the unique needs and preferences of different demographic groups, we can work towards a more inclusive and equitable healthcare system that ensures access to essential medical services for all individuals.\n"
   ]
  }
 ],
 "metadata": {
  "kernelspec": {
   "display_name": "Python 3 (ipykernel)",
   "language": "python",
   "name": "python3"
  },
  "language_info": {
   "codemirror_mode": {
    "name": "ipython",
    "version": 3
   },
   "file_extension": ".py",
   "mimetype": "text/x-python",
   "name": "python",
   "nbconvert_exporter": "python",
   "pygments_lexer": "ipython3",
   "version": "3.9.13"
  }
 },
 "nbformat": 4,
 "nbformat_minor": 5
}
